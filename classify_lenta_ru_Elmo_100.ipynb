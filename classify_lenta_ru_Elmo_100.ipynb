{
 "cells": [
  {
   "cell_type": "markdown",
   "metadata": {},
   "source": [
    "## Скрипт предсказывает тему записи, на основе заголовка и текста новости. Темы сгруппированы в 4 группы. Достигаемые значения метрики F1 - 85.3%. \n",
    "## Для предсказани классов используется обученная сеть прямого распространения. На вход сети подается выходной вектор ELMO (сформированный на основании оценки заголовка) и результат парсинга текста на наличие географических названий. \n",
    "## Результат классифицирует тексты на 22 темы. F1-69% После чего темы объеденяются в 4 группы и значения метрики увеличиваются до 85%"
   ]
  },
  {
   "cell_type": "code",
   "execution_count": 1,
   "metadata": {},
   "outputs": [],
   "source": [
    "import os\n",
    "import numpy as np\n",
    "import pandas as pd\n",
    "pd.options.display.max_rows = 120\n",
    "import torch\n",
    "import torch.nn as nn\n",
    "import torch.optim as optim\n",
    "import re\n",
    "import pickle\n",
    "import pymorphy2\n",
    "import matplotlib.pyplot as plt\n",
    "import xml.etree.ElementTree as ET\n",
    "from sklearn.decomposition import PCA \n",
    "from transformers import BertModel, BertTokenizer, BertConfig, AutoTokenizer\n",
    "from sklearn.metrics import f1_score\n",
    "from sklearn.utils import shuffle\n",
    "import warnings\n",
    "warnings.simplefilter(action='ignore')\n",
    "\n",
    "%matplotlib inline"
   ]
  },
  {
   "cell_type": "code",
   "execution_count": 2,
   "metadata": {},
   "outputs": [],
   "source": [
    "morf = pymorphy2.MorphAnalyzer()"
   ]
  },
  {
   "cell_type": "markdown",
   "metadata": {},
   "source": [
    "## Подготовка данных"
   ]
  },
  {
   "cell_type": "code",
   "execution_count": 3,
   "metadata": {},
   "outputs": [],
   "source": [
    "#загружаем заранее скачанный датасет\n",
    "df0=pd.read_csv('lenta-ru-news.csv',low_memory=False)"
   ]
  },
  {
   "cell_type": "code",
   "execution_count": 5,
   "metadata": {},
   "outputs": [],
   "source": [
    "# удаляем данные с незаполненной темой так как там предсказывать нечего\n",
    "df=df0[pd.isnull(df0.topic)==False]\n",
    "df=df[pd.isnull(df.text)==False]\n",
    "df=df[pd.isnull(df.title)==False]\n",
    "df=df.reset_index().drop(columns='index')"
   ]
  },
  {
   "cell_type": "code",
   "execution_count": 6,
   "metadata": {},
   "outputs": [
    {
     "data": {
      "text/plain": [
       "(738968, 6)"
      ]
     },
     "execution_count": 6,
     "metadata": {},
     "output_type": "execute_result"
    }
   ],
   "source": [
    "df.shape"
   ]
  },
  {
   "cell_type": "code",
   "execution_count": 9,
   "metadata": {},
   "outputs": [],
   "source": [
    "# перемешиваем и отбираем первые 100 тысяч\n",
    "# на большем количестве результат будет не хуже, а время работы - существенно дольше\n",
    "# 100 тыс - обрабатываются за 3.5 часа соответственно 700 тыс - за 24 часа.\n",
    "\n",
    "df1=shuffle(df).reset_index().drop(columns='index')\n",
    "df=df1.loc[:99999,:]"
   ]
  },
  {
   "cell_type": "code",
   "execution_count": 36,
   "metadata": {},
   "outputs": [
    {
     "name": "stdout",
     "output_type": "stream",
     "text": [
      "22\n"
     ]
    },
    {
     "data": {
      "text/plain": [
       "['Россия',\n",
       " 'Мир',\n",
       " 'Экономика',\n",
       " 'Спорт',\n",
       " 'Бывший СССР',\n",
       " 'Культура',\n",
       " 'Наука и техника',\n",
       " 'Интернет и СМИ',\n",
       " 'Из жизни',\n",
       " 'Дом',\n",
       " 'Силовые структуры',\n",
       " 'Ценности',\n",
       " 'Бизнес',\n",
       " 'Путешествия',\n",
       " '69-я параллель',\n",
       " 'Крым',\n",
       " 'Культпросвет ',\n",
       " 'Легпром',\n",
       " 'Библиотека',\n",
       " 'МедНовости',\n",
       " 'Оружие',\n",
       " 'Сочи']"
      ]
     },
     "execution_count": 36,
     "metadata": {},
     "output_type": "execute_result"
    }
   ],
   "source": [
    "print(df.topic.value_counts().shape[0])\n",
    "top_ls=list(df.topic.value_counts().index)\n",
    "top_ls"
   ]
  },
  {
   "cell_type": "code",
   "execution_count": 36,
   "metadata": {},
   "outputs": [],
   "source": [
    "df['top_id']=df.topic.apply(lambda x: top_ls.index(x))\n",
    "df['tit_len']=df.title.apply(lambda x: len(x.split()))"
   ]
  },
  {
   "cell_type": "code",
   "execution_count": 37,
   "metadata": {},
   "outputs": [
    {
     "data": {
      "text/html": [
       "<div>\n",
       "<style scoped>\n",
       "    .dataframe tbody tr th:only-of-type {\n",
       "        vertical-align: middle;\n",
       "    }\n",
       "\n",
       "    .dataframe tbody tr th {\n",
       "        vertical-align: top;\n",
       "    }\n",
       "\n",
       "    .dataframe thead th {\n",
       "        text-align: right;\n",
       "    }\n",
       "</style>\n",
       "<table border=\"1\" class=\"dataframe\">\n",
       "  <thead>\n",
       "    <tr style=\"text-align: right;\">\n",
       "      <th></th>\n",
       "      <th>url</th>\n",
       "      <th>title</th>\n",
       "      <th>text</th>\n",
       "      <th>topic</th>\n",
       "      <th>tags</th>\n",
       "      <th>date</th>\n",
       "      <th>top_id</th>\n",
       "      <th>tit_len</th>\n",
       "    </tr>\n",
       "  </thead>\n",
       "  <tbody>\n",
       "    <tr>\n",
       "      <th>0</th>\n",
       "      <td>https://lenta.ru/news/2013/08/23/rating/</td>\n",
       "      <td>Профессия рыбака перестала быть самой опасной ...</td>\n",
       "      <td>Впервые за последние несколько лет профессия р...</td>\n",
       "      <td>Экономика</td>\n",
       "      <td>Деньги</td>\n",
       "      <td>2013/08/23</td>\n",
       "      <td>2</td>\n",
       "      <td>8</td>\n",
       "    </tr>\n",
       "    <tr>\n",
       "      <th>1</th>\n",
       "      <td>https://lenta.ru/news/2009/11/12/cobrand/</td>\n",
       "      <td>Антимонопольщики России проверят законность ко...</td>\n",
       "      <td>Федеральная антимонопольная служба России запр...</td>\n",
       "      <td>Экономика</td>\n",
       "      <td>Все</td>\n",
       "      <td>2009/11/12</td>\n",
       "      <td>2</td>\n",
       "      <td>6</td>\n",
       "    </tr>\n",
       "    <tr>\n",
       "      <th>2</th>\n",
       "      <td>https://lenta.ru/news/2015/09/05/miting/</td>\n",
       "      <td>В Донецке прошел митинг в поддержку бывшего гл...</td>\n",
       "      <td>В центре Донецка несколько десятков митингующи...</td>\n",
       "      <td>Бывший СССР</td>\n",
       "      <td>Украина</td>\n",
       "      <td>2015/09/05</td>\n",
       "      <td>4</td>\n",
       "      <td>10</td>\n",
       "    </tr>\n",
       "    <tr>\n",
       "      <th>3</th>\n",
       "      <td>https://lenta.ru/news/2013/07/04/liberty/</td>\n",
       "      <td>Статую Свободы открыли после ремонта</td>\n",
       "      <td>В Нью-Йорке 4 июля открыли доступ посетителей ...</td>\n",
       "      <td>Мир</td>\n",
       "      <td>Общество</td>\n",
       "      <td>2013/07/04</td>\n",
       "      <td>1</td>\n",
       "      <td>5</td>\n",
       "    </tr>\n",
       "    <tr>\n",
       "      <th>4</th>\n",
       "      <td>https://lenta.ru/news/2014/04/27/georgia/</td>\n",
       "      <td>В Грузии начали вербовать наемников для отправ...</td>\n",
       "      <td>Бывший начальник личной охраны экс-президента ...</td>\n",
       "      <td>Бывший СССР</td>\n",
       "      <td>Украина</td>\n",
       "      <td>2014/04/27</td>\n",
       "      <td>4</td>\n",
       "      <td>9</td>\n",
       "    </tr>\n",
       "  </tbody>\n",
       "</table>\n",
       "</div>"
      ],
      "text/plain": [
       "                                         url  \\\n",
       "0   https://lenta.ru/news/2013/08/23/rating/   \n",
       "1  https://lenta.ru/news/2009/11/12/cobrand/   \n",
       "2   https://lenta.ru/news/2015/09/05/miting/   \n",
       "3  https://lenta.ru/news/2013/07/04/liberty/   \n",
       "4  https://lenta.ru/news/2014/04/27/georgia/   \n",
       "\n",
       "                                               title  \\\n",
       "0  Профессия рыбака перестала быть самой опасной ...   \n",
       "1  Антимонопольщики России проверят законность ко...   \n",
       "2  В Донецке прошел митинг в поддержку бывшего гл...   \n",
       "3               Статую Свободы открыли после ремонта   \n",
       "4  В Грузии начали вербовать наемников для отправ...   \n",
       "\n",
       "                                                text        topic      tags  \\\n",
       "0  Впервые за последние несколько лет профессия р...    Экономика    Деньги   \n",
       "1  Федеральная антимонопольная служба России запр...    Экономика       Все   \n",
       "2  В центре Донецка несколько десятков митингующи...  Бывший СССР   Украина   \n",
       "3  В Нью-Йорке 4 июля открыли доступ посетителей ...          Мир  Общество   \n",
       "4  Бывший начальник личной охраны экс-президента ...  Бывший СССР   Украина   \n",
       "\n",
       "         date  top_id  tit_len  \n",
       "0  2013/08/23       2        8  \n",
       "1  2009/11/12       2        6  \n",
       "2  2015/09/05       4       10  \n",
       "3  2013/07/04       1        5  \n",
       "4  2014/04/27       4        9  "
      ]
     },
     "execution_count": 37,
     "metadata": {},
     "output_type": "execute_result"
    }
   ],
   "source": [
    "df.head()"
   ]
  },
  {
   "cell_type": "markdown",
   "metadata": {},
   "source": [
    "## Поскольку основые темы называются Россия и Мир, подсчитаем сколько раз в тексте встречаются географические названия из России, СНГ и остального мира  "
   ]
  },
  {
   "cell_type": "code",
   "execution_count": 6,
   "metadata": {},
   "outputs": [],
   "source": [
    "# загружаем справочник географических названий\n",
    "df_geo=pd.read_csv('geographic_spr.csv')"
   ]
  },
  {
   "cell_type": "code",
   "execution_count": 7,
   "metadata": {},
   "outputs": [
    {
     "data": {
      "text/html": [
       "<div>\n",
       "<style scoped>\n",
       "    .dataframe tbody tr th:only-of-type {\n",
       "        vertical-align: middle;\n",
       "    }\n",
       "\n",
       "    .dataframe tbody tr th {\n",
       "        vertical-align: top;\n",
       "    }\n",
       "\n",
       "    .dataframe thead th {\n",
       "        text-align: right;\n",
       "    }\n",
       "</style>\n",
       "<table border=\"1\" class=\"dataframe\">\n",
       "  <thead>\n",
       "    <tr style=\"text-align: right;\">\n",
       "      <th></th>\n",
       "      <th>Unnamed: 0</th>\n",
       "      <th>country</th>\n",
       "      <th>city</th>\n",
       "      <th>region</th>\n",
       "    </tr>\n",
       "  </thead>\n",
       "  <tbody>\n",
       "    <tr>\n",
       "      <th>0</th>\n",
       "      <td>0</td>\n",
       "      <td>Россия</td>\n",
       "      <td>Москва</td>\n",
       "      <td>Москва и Московская обл.</td>\n",
       "    </tr>\n",
       "    <tr>\n",
       "      <th>1</th>\n",
       "      <td>1</td>\n",
       "      <td>Россия</td>\n",
       "      <td>Абрамцево</td>\n",
       "      <td>Москва и Московская обл.</td>\n",
       "    </tr>\n",
       "  </tbody>\n",
       "</table>\n",
       "</div>"
      ],
      "text/plain": [
       "   Unnamed: 0 country       city                    region\n",
       "0           0  Россия     Москва  Москва и Московская обл.\n",
       "1           1  Россия  Абрамцево  Москва и Московская обл."
      ]
     },
     "execution_count": 7,
     "metadata": {},
     "output_type": "execute_result"
    }
   ],
   "source": [
    "df_geo.head(2)"
   ]
  },
  {
   "cell_type": "code",
   "execution_count": 8,
   "metadata": {},
   "outputs": [],
   "source": [
    "# функция возвращающая к какой части света относится данное название\n",
    "def match_geo(wrd):\n",
    "    \n",
    "    wrd = wrd[0].upper()+wrd[1:]\n",
    "    cantr=''\n",
    "    if df_geo[df_geo.city==wrd].country.shape[0]!=0:\n",
    "        cantr = df_geo[df_geo.city==wrd].country.iloc[0]\n",
    "    if df_geo[df_geo.region==wrd].country.shape[0]!=0:\n",
    "        cantr = df_geo[df_geo.region==wrd].country.iloc[0]\n",
    "    if df_geo[df_geo.country==wrd].country.shape[0]!=0:\n",
    "        cantr = df_geo[df_geo.country==wrd].country.iloc[0]\n",
    "        \n",
    "    if cantr=='':\n",
    "        return 0\n",
    "    elif cantr == 'Россия':\n",
    "        return 1\n",
    "    elif cantr in ['Беларусь','Украина','Молдова','Литва','Латвия','Эстония',\n",
    "                  'Грузия','Армения','Азербайджан','Туркмения','Казахстан','Узбекистан',\n",
    "                  'Киргызстан','Таджикистан']:\n",
    "        return 2\n",
    "     \n",
    "    return 3\n",
    "    "
   ]
  },
  {
   "cell_type": "code",
   "execution_count": 9,
   "metadata": {},
   "outputs": [],
   "source": [
    "# Функция, выбирает из текста имена собственные и анализирует их на предмет географии\n",
    "def geo_text(txt):\n",
    "    pattern='[А-Я]'+'\\w*'\n",
    "    x=0\n",
    "    y=0\n",
    "    z=0\n",
    "    m=0\n",
    "    \n",
    "    for wrd in re.findall(pattern,txt):\n",
    "        norm_wrd=morf.parse(wrd)[0].normal_form\n",
    "\n",
    "        answ=match_geo(norm_wrd)\n",
    "        if answ==1:\n",
    "            x+=1\n",
    "        elif answ==2:\n",
    "            y+=1\n",
    "        elif answ==3:\n",
    "            z+=1\n",
    "        else:\n",
    "            m+=1\n",
    "            \n",
    "    return x,y,z,m"
   ]
  },
  {
   "cell_type": "markdown",
   "metadata": {},
   "source": [
    "# Создаем тензор с гео результатами"
   ]
  },
  {
   "cell_type": "code",
   "execution_count": 10,
   "metadata": {},
   "outputs": [
    {
     "name": "stdout",
     "output_type": "stream",
     "text": [
      "0\n",
      "5000\n",
      "10000\n",
      "15000\n",
      "20000\n",
      "25000\n",
      "30000\n",
      "35000\n",
      "40000\n",
      "45000\n",
      "50000\n",
      "55000\n",
      "60000\n",
      "65000\n",
      "70000\n",
      "75000\n",
      "80000\n",
      "85000\n",
      "90000\n",
      "95000\n",
      "Wall time: 2h 22min 24s\n"
     ]
    }
   ],
   "source": [
    "%%time\n",
    "geo=torch.zeros(df.shape[0],4)\n",
    "for i in range(df.shape[0]):\n",
    "    geo[i,:]=torch.tensor(geo_text(df.text[i]))\n",
    "    if i%5000==0:\n",
    "        print(i)"
   ]
  },
  {
   "cell_type": "code",
   "execution_count": 12,
   "metadata": {},
   "outputs": [],
   "source": [
    "torch.save(geo,'geo_tz_100000.pt')"
   ]
  },
  {
   "cell_type": "markdown",
   "metadata": {},
   "source": [
    "## Загружаем ELMo от ruwikiruscorpora_tokens_elmo_1024_2019\n",
    "## https://rusvectores.org/ru/models/\n",
    "##  НКРЯ и Википедия за декабрь 2018 (токены)\n"
   ]
  },
  {
   "cell_type": "code",
   "execution_count": 23,
   "metadata": {},
   "outputs": [],
   "source": [
    "from allennlp.modules.elmo import Elmo, batch_to_ids\n",
    "from scipy.spatial.distance import cosine"
   ]
  },
  {
   "cell_type": "code",
   "execution_count": 24,
   "metadata": {},
   "outputs": [],
   "source": [
    "e_pt =r'C:\\Users\\Anton\\deeplearn_train\\rti_1\\rusvector'\n",
    "opt_f=e_pt+r'\\options.json'\n",
    "weight_f=e_pt+r'\\model.hdf5'"
   ]
  },
  {
   "cell_type": "code",
   "execution_count": 25,
   "metadata": {},
   "outputs": [],
   "source": [
    "elmo=Elmo(opt_f,weight_f,1)"
   ]
  },
  {
   "cell_type": "code",
   "execution_count": 26,
   "metadata": {},
   "outputs": [],
   "source": [
    "def prepared_title(ind):\n",
    "    ls=[]\n",
    "    for tk in df.title[ind].split():\n",
    "        prs=morf.parse(tk)[0]\n",
    "        if prs.tag.POS not in ['PREP','CONJ']:\n",
    "            ls.append(prs.normal_form)\n",
    "    return ls"
   ]
  },
  {
   "cell_type": "code",
   "execution_count": 27,
   "metadata": {},
   "outputs": [],
   "source": [
    "elmo.eval();"
   ]
  },
  {
   "cell_type": "code",
   "execution_count": 33,
   "metadata": {},
   "outputs": [],
   "source": [
    "elmo.cuda();"
   ]
  },
  {
   "cell_type": "markdown",
   "metadata": {},
   "source": [
    "### Формируем тензор с резульатами пропуска заголовка через ELMo"
   ]
  },
  {
   "cell_type": "code",
   "execution_count": 39,
   "metadata": {},
   "outputs": [
    {
     "name": "stdout",
     "output_type": "stream",
     "text": [
      "0\n",
      "10000\n",
      "20000\n",
      "30000\n",
      "40000\n",
      "50000\n",
      "60000\n",
      "70000\n",
      "80000\n",
      "90000\n",
      "Wall time: 1h 5min 55s\n"
     ]
    }
   ],
   "source": [
    "%%time\n",
    "n = df.shape[0]\n",
    "b=torch.zeros(n,1025)\n",
    "for i in range(n):\n",
    "    t_inp=batch_to_ids([prepared_title(i)]).cuda()\n",
    "    emb=elmo(t_inp)\n",
    "    \n",
    "    b[i,:1024]=emb['elmo_representations'][0].detach()[0].sum(dim=0).cpu()\n",
    "    b[i,1024]=df.tit_len[i].astype(float)\n",
    "    torch.cuda.empty_cache()\n",
    "    if i%10000==0:\n",
    "        print(i)"
   ]
  },
  {
   "cell_type": "code",
   "execution_count": 40,
   "metadata": {},
   "outputs": [
    {
     "data": {
      "text/plain": [
       "torch.Size([100000, 1025])"
      ]
     },
     "execution_count": 40,
     "metadata": {},
     "output_type": "execute_result"
    }
   ],
   "source": [
    "b.shape"
   ]
  },
  {
   "cell_type": "markdown",
   "metadata": {},
   "source": [
    "##  Декларируем простую сеть для дообучения классификатора"
   ]
  },
  {
   "cell_type": "code",
   "execution_count": 50,
   "metadata": {},
   "outputs": [],
   "source": [
    "text_tune = nn.Sequential(\n",
    "            nn.Linear(1029, 500),\n",
    "            nn.Dropout(0.2),\n",
    "            nn.Linear(500, 500),\n",
    "            nn.ReLU(),    \n",
    "            nn.Linear(500, 22)\n",
    "  \n",
    "            )"
   ]
  },
  {
   "cell_type": "code",
   "execution_count": 99,
   "metadata": {},
   "outputs": [],
   "source": [
    "text_tune.train();"
   ]
  },
  {
   "cell_type": "code",
   "execution_count": 13,
   "metadata": {},
   "outputs": [],
   "source": [
    "# a - входной тензор\n",
    "a=torch.zeros(100000,1029)\n",
    "a[:,:1025]=b.clone()\n",
    "a[:,1025:]=geo.clone()"
   ]
  },
  {
   "cell_type": "code",
   "execution_count": 16,
   "metadata": {},
   "outputs": [],
   "source": [
    "target = torch.LongTensor(df.top_id)"
   ]
  },
  {
   "cell_type": "code",
   "execution_count": 100,
   "metadata": {},
   "outputs": [],
   "source": [
    "bs = 1000\n",
    "num_epochs = 100\n",
    "optimizer = torch.optim.Adam(text_tune.parameters(), lr=0.000003)\n",
    "criterion = nn.CrossEntropyLoss()"
   ]
  },
  {
   "cell_type": "code",
   "execution_count": 101,
   "metadata": {
    "scrolled": true
   },
   "outputs": [
    {
     "name": "stdout",
     "output_type": "stream",
     "text": [
      "0.6915 0.7140444444444445 81.24198746681213\n",
      "0.6923 0.7145333333333334 81.11734938621521\n",
      "0.6924 0.7151222222222222 80.8876165151596\n",
      "0.6923 0.7156555555555556 80.60405975580215\n",
      "0.6925 0.7165111111111111 80.54951596260071\n",
      "0.6934 0.7171444444444445 80.19935989379883\n",
      "0.6934 0.7179222222222222 80.08700048923492\n",
      "0.6932 0.7183555555555555 79.81382071971893\n",
      "0.6936 0.7189444444444445 79.64801543951035\n",
      "0.6943 0.719411111111111 79.37538051605225\n",
      "0.6942 0.7200555555555556 79.19245648384094\n",
      "0.694 0.7207 78.88361376523972\n",
      "0.6951 0.721088888888889 78.68443942070007\n",
      "0.6948 0.7213333333333334 78.54552394151688\n",
      "0.6948 0.7218222222222221 78.4982972741127\n",
      "0.6947 0.7224666666666667 78.16089129447937\n",
      "0.6943 0.7229555555555556 78.09604912996292\n",
      "0.6951 0.723688888888889 77.78736090660095\n",
      "0.6955 0.7241777777777778 77.59200406074524\n",
      "0.6962 0.7244000000000002 77.47793650627136\n"
     ]
    }
   ],
   "source": [
    "# тренирвока модели\n",
    "l1=0\n",
    "l2=60\n",
    "l3=70\n",
    "l4=80\n",
    "\n",
    "for epoch in range(num_epochs):\n",
    "    run_l=0\n",
    "\n",
    "    for i in range(0,90000,bs): \n",
    "        inp = a[i:(i+bs),:].float()\n",
    "        inp2 = target[i:(i+bs)] \n",
    "        optimizer.zero_grad()        \n",
    "        out=text_tune(inp)\n",
    "\n",
    "        loss = criterion(out,inp2)\n",
    "        loss.backward()\n",
    "        \n",
    "        run_l+=loss.item()      \n",
    "        optimizer.step()\n",
    "\n",
    "\n",
    "\n",
    "    if epoch%5==0:\n",
    "        l4=l3\n",
    "        l3=l2          \n",
    "        l2=l1\n",
    "        l1=run_l\n",
    "\n",
    "        if (l1>l2) & (l2>l3) & (l3>l4):\n",
    "            print('end if trane')\n",
    "            break\n",
    "        text_tune.eval()\n",
    "        out_test = text_tune(a[90000:,:].float()).cpu()\n",
    "        tet_res=target[90000:].cpu()\n",
    "        text_tune.train()\n",
    "        val=f1_score(tet_res.numpy(),out_test.argmax(axis=1).numpy(),average='micro')\n",
    "        res=text_tr()\n",
    "        print(val,res,l1 )  \n",
    "        if res-val>0.06:\n",
    "            print('GAP is reached.end if trane')\n",
    "            break"
   ]
  },
  {
   "cell_type": "code",
   "execution_count": 21,
   "metadata": {},
   "outputs": [],
   "source": [
    "def text_tr():\n",
    "    text_tune.eval()\n",
    "    out_test = text_tune(a[:90000,:].float()).cpu()\n",
    "    tet_res=target[:90000].cpu()\n",
    "    text_tune.train()\n",
    "    return(f1_score(tet_res.numpy(),out_test.argmax(axis=1).numpy(),average='micro') )  "
   ]
  },
  {
   "cell_type": "markdown",
   "metadata": {},
   "source": [
    "## Запишем результаты предсказания модели в датасет"
   ]
  },
  {
   "cell_type": "code",
   "execution_count": 102,
   "metadata": {},
   "outputs": [],
   "source": [
    "text_tune.eval();\n",
    "\n",
    "out_test = text_tune(a.float())\n",
    "df['pred_1']=out_test.argmax(axis=1).numpy()\n",
    "\n",
    "df9=df.loc[90000:,:]"
   ]
  },
  {
   "cell_type": "code",
   "execution_count": 62,
   "metadata": {},
   "outputs": [
    {
     "data": {
      "text/html": [
       "<div>\n",
       "<style scoped>\n",
       "    .dataframe tbody tr th:only-of-type {\n",
       "        vertical-align: middle;\n",
       "    }\n",
       "\n",
       "    .dataframe tbody tr th {\n",
       "        vertical-align: top;\n",
       "    }\n",
       "\n",
       "    .dataframe thead th {\n",
       "        text-align: right;\n",
       "    }\n",
       "</style>\n",
       "<table border=\"1\" class=\"dataframe\">\n",
       "  <thead>\n",
       "    <tr style=\"text-align: right;\">\n",
       "      <th></th>\n",
       "      <th>url</th>\n",
       "      <th>title</th>\n",
       "      <th>text</th>\n",
       "      <th>topic</th>\n",
       "      <th>tags</th>\n",
       "      <th>date</th>\n",
       "      <th>top_id</th>\n",
       "      <th>tit_len</th>\n",
       "      <th>pred_1</th>\n",
       "    </tr>\n",
       "  </thead>\n",
       "  <tbody>\n",
       "    <tr>\n",
       "      <th>90000</th>\n",
       "      <td>https://lenta.ru/news/2012/10/19/blame/</td>\n",
       "      <td>Тимошенко обвинила Януковича в туалетном вуайе...</td>\n",
       "      <td>Экс-премьер Украины, лидер оппозиционной \"Бать...</td>\n",
       "      <td>Бывший СССР</td>\n",
       "      <td>Все</td>\n",
       "      <td>2012/10/19</td>\n",
       "      <td>4</td>\n",
       "      <td>6</td>\n",
       "      <td>4</td>\n",
       "    </tr>\n",
       "    <tr>\n",
       "      <th>90001</th>\n",
       "      <td>https://lenta.ru/news/2011/08/18/detain1/</td>\n",
       "      <td>Трех жителей Киргизии задержали за убийство ту...</td>\n",
       "      <td>МВД Киргизии объявило о раскрытии убийства Ерл...</td>\n",
       "      <td>Бывший СССР</td>\n",
       "      <td>Все</td>\n",
       "      <td>2011/08/18</td>\n",
       "      <td>4</td>\n",
       "      <td>7</td>\n",
       "      <td>0</td>\n",
       "    </tr>\n",
       "    <tr>\n",
       "      <th>90002</th>\n",
       "      <td>https://lenta.ru/news/2012/08/28/ministry/</td>\n",
       "      <td>Эстонские власти разработали концепцию гей-сож...</td>\n",
       "      <td>Эстонское министерство юстиции разработало кон...</td>\n",
       "      <td>Бывший СССР</td>\n",
       "      <td>Все</td>\n",
       "      <td>2012/08/28</td>\n",
       "      <td>4</td>\n",
       "      <td>5</td>\n",
       "      <td>4</td>\n",
       "    </tr>\n",
       "    <tr>\n",
       "      <th>90003</th>\n",
       "      <td>https://lenta.ru/news/2009/08/04/sabotage/</td>\n",
       "      <td>Грустная Тимошенко заподозрила Ющенко в попытк...</td>\n",
       "      <td>Премьер-министр Украины Юлия Тимошенко заподоз...</td>\n",
       "      <td>Бывший СССР</td>\n",
       "      <td>Все</td>\n",
       "      <td>2009/08/04</td>\n",
       "      <td>4</td>\n",
       "      <td>8</td>\n",
       "      <td>3</td>\n",
       "    </tr>\n",
       "    <tr>\n",
       "      <th>90004</th>\n",
       "      <td>https://lenta.ru/news/2016/06/02/peskov_kadyrov/</td>\n",
       "      <td>В Кремле прокомментировали сорвавшийся визит п...</td>\n",
       "      <td>Пресс-секретарь президента России Дмитрий Песк...</td>\n",
       "      <td>Россия</td>\n",
       "      <td>Политика</td>\n",
       "      <td>2016/06/02</td>\n",
       "      <td>0</td>\n",
       "      <td>8</td>\n",
       "      <td>0</td>\n",
       "    </tr>\n",
       "  </tbody>\n",
       "</table>\n",
       "</div>"
      ],
      "text/plain": [
       "                                                    url  \\\n",
       "90000           https://lenta.ru/news/2012/10/19/blame/   \n",
       "90001         https://lenta.ru/news/2011/08/18/detain1/   \n",
       "90002        https://lenta.ru/news/2012/08/28/ministry/   \n",
       "90003        https://lenta.ru/news/2009/08/04/sabotage/   \n",
       "90004  https://lenta.ru/news/2016/06/02/peskov_kadyrov/   \n",
       "\n",
       "                                                   title  \\\n",
       "90000  Тимошенко обвинила Януковича в туалетном вуайе...   \n",
       "90001  Трех жителей Киргизии задержали за убийство ту...   \n",
       "90002  Эстонские власти разработали концепцию гей-сож...   \n",
       "90003  Грустная Тимошенко заподозрила Ющенко в попытк...   \n",
       "90004  В Кремле прокомментировали сорвавшийся визит п...   \n",
       "\n",
       "                                                    text        topic  \\\n",
       "90000  Экс-премьер Украины, лидер оппозиционной \"Бать...  Бывший СССР   \n",
       "90001  МВД Киргизии объявило о раскрытии убийства Ерл...  Бывший СССР   \n",
       "90002  Эстонское министерство юстиции разработало кон...  Бывший СССР   \n",
       "90003  Премьер-министр Украины Юлия Тимошенко заподоз...  Бывший СССР   \n",
       "90004  Пресс-секретарь президента России Дмитрий Песк...       Россия   \n",
       "\n",
       "           tags        date  top_id  tit_len  pred_1  \n",
       "90000       Все  2012/10/19       4        6       4  \n",
       "90001       Все  2011/08/18       4        7       0  \n",
       "90002       Все  2012/08/28       4        5       4  \n",
       "90003       Все  2009/08/04       4        8       3  \n",
       "90004  Политика  2016/06/02       0        8       0  "
      ]
     },
     "execution_count": 62,
     "metadata": {},
     "output_type": "execute_result"
    }
   ],
   "source": [
    "df9.head()"
   ]
  },
  {
   "cell_type": "markdown",
   "metadata": {},
   "source": [
    "## Снижаем количество признаков до 4. Для этого используем жадный алгоритм элиминации: Ищем самую слабую тему с наименьшим accuracy и затем объединяем ее с одной из оставшихся, выбирая (перебором) из них такую вторую тему, которая показывает дает наибольший прирост метрики F1 на всем датасете."
   ]
  },
  {
   "cell_type": "code",
   "execution_count": 33,
   "metadata": {},
   "outputs": [],
   "source": [
    "# функция считает F1 относительно групп тем. \n",
    "# группы формируется с помощью вспомогательного датасета tpk\n",
    "def foo():\n",
    "    ar1=np.array(df9[['top_id','pred_1']].merge(tpk[['id','new_id']],left_on='top_id',right_on='id',how='left').new_id)\n",
    "    ar2=np.array(df9[['top_id','pred_1']].merge(tpk[['id','new_id']],left_on='pred_1',right_on='id',how='left').new_id)\n",
    "    \n",
    "    return f1_score(ar1.astype(int),ar2.astype(int),average='micro')"
   ]
  },
  {
   "cell_type": "code",
   "execution_count": 34,
   "metadata": {},
   "outputs": [],
   "source": [
    "# расчет accuracy по одной теме\n",
    "\n",
    "def foo_i(i):\n",
    "    df1=df9[['top_id','pred_1']].merge(tpk[['id','new_id']],left_on='top_id',right_on='id',how='left')\n",
    "    df2=df9[['top_id','pred_1']].merge(tpk[['id','new_id']],left_on='pred_1',right_on='id',how='left')\n",
    "    \n",
    "    df3=df1[['new_id']].merge(df2[['new_id']],left_index=True,right_index=True)\n",
    "    df3['bingo']=df3.new_id_x-df3.new_id_y\n",
    "\n",
    "    if df3[(df3.new_id_x==i)].shape[0]==0:\n",
    "        acc=0\n",
    "    else:\n",
    "        acc = df3[(df3.new_id_x==i) & (df3.bingo==0)].shape[0]/df3[(df3.new_id_x==i)].shape[0]\n",
    "    \n",
    "    return acc"
   ]
  },
  {
   "cell_type": "code",
   "execution_count": 69,
   "metadata": {},
   "outputs": [],
   "source": [
    "# вспомогательная ячейка чтобы сформировать tpk\n",
    "df_count=df9.topic.value_counts().reset_index()\n",
    "df_count.columns=['tp','nmb']\n",
    "def nmb_val(tp):\n",
    "    if df_count[df_count.tp==tp].shape[0]==0:\n",
    "        return 0\n",
    "    return df_count[df_count.tp==tp].nmb.iloc[0]"
   ]
  },
  {
   "cell_type": "code",
   "execution_count": 108,
   "metadata": {},
   "outputs": [],
   "source": [
    "tpk = pd.DataFrame(columns=['id','top','nmb'])\n",
    "for i in top_ls:\n",
    "    tpk.loc[tpk.shape[0],:]=[top_ls.index(i),i,nmb_val(i)]\n",
    "#     print(top_ls.index(i),i)\n",
    "tpk['new_id']=tpk.id"
   ]
  },
  {
   "cell_type": "markdown",
   "metadata": {},
   "source": [
    "# Вывод итоговых результатов. В колонке 'new_id' - указанна группа (одна из четырех) к которой принадлежит данная тема. Первое число - значение метрики F1"
   ]
  },
  {
   "cell_type": "code",
   "execution_count": 112,
   "metadata": {},
   "outputs": [
    {
     "name": "stdout",
     "output_type": "stream",
     "text": [
      "0.8532\n"
     ]
    },
    {
     "data": {
      "text/html": [
       "<div>\n",
       "<style scoped>\n",
       "    .dataframe tbody tr th:only-of-type {\n",
       "        vertical-align: middle;\n",
       "    }\n",
       "\n",
       "    .dataframe tbody tr th {\n",
       "        vertical-align: top;\n",
       "    }\n",
       "\n",
       "    .dataframe thead th {\n",
       "        text-align: right;\n",
       "    }\n",
       "</style>\n",
       "<table border=\"1\" class=\"dataframe\">\n",
       "  <thead>\n",
       "    <tr style=\"text-align: right;\">\n",
       "      <th></th>\n",
       "      <th>id</th>\n",
       "      <th>top</th>\n",
       "      <th>nmb</th>\n",
       "      <th>new_id</th>\n",
       "    </tr>\n",
       "  </thead>\n",
       "  <tbody>\n",
       "    <tr>\n",
       "      <th>0</th>\n",
       "      <td>0</td>\n",
       "      <td>Россия</td>\n",
       "      <td>2141</td>\n",
       "      <td>2</td>\n",
       "    </tr>\n",
       "    <tr>\n",
       "      <th>1</th>\n",
       "      <td>1</td>\n",
       "      <td>Мир</td>\n",
       "      <td>1836</td>\n",
       "      <td>1</td>\n",
       "    </tr>\n",
       "    <tr>\n",
       "      <th>2</th>\n",
       "      <td>2</td>\n",
       "      <td>Экономика</td>\n",
       "      <td>1066</td>\n",
       "      <td>2</td>\n",
       "    </tr>\n",
       "    <tr>\n",
       "      <th>3</th>\n",
       "      <td>3</td>\n",
       "      <td>Спорт</td>\n",
       "      <td>847</td>\n",
       "      <td>3</td>\n",
       "    </tr>\n",
       "    <tr>\n",
       "      <th>4</th>\n",
       "      <td>4</td>\n",
       "      <td>Бывший СССР</td>\n",
       "      <td>740</td>\n",
       "      <td>4</td>\n",
       "    </tr>\n",
       "    <tr>\n",
       "      <th>5</th>\n",
       "      <td>5</td>\n",
       "      <td>Культура</td>\n",
       "      <td>727</td>\n",
       "      <td>2</td>\n",
       "    </tr>\n",
       "    <tr>\n",
       "      <th>6</th>\n",
       "      <td>6</td>\n",
       "      <td>Наука и техника</td>\n",
       "      <td>725</td>\n",
       "      <td>2</td>\n",
       "    </tr>\n",
       "    <tr>\n",
       "      <th>7</th>\n",
       "      <td>7</td>\n",
       "      <td>Интернет и СМИ</td>\n",
       "      <td>577</td>\n",
       "      <td>2</td>\n",
       "    </tr>\n",
       "    <tr>\n",
       "      <th>8</th>\n",
       "      <td>8</td>\n",
       "      <td>Из жизни</td>\n",
       "      <td>351</td>\n",
       "      <td>2</td>\n",
       "    </tr>\n",
       "    <tr>\n",
       "      <th>9</th>\n",
       "      <td>9</td>\n",
       "      <td>Дом</td>\n",
       "      <td>348</td>\n",
       "      <td>2</td>\n",
       "    </tr>\n",
       "    <tr>\n",
       "      <th>10</th>\n",
       "      <td>10</td>\n",
       "      <td>Силовые структуры</td>\n",
       "      <td>295</td>\n",
       "      <td>2</td>\n",
       "    </tr>\n",
       "    <tr>\n",
       "      <th>11</th>\n",
       "      <td>11</td>\n",
       "      <td>Ценности</td>\n",
       "      <td>121</td>\n",
       "      <td>2</td>\n",
       "    </tr>\n",
       "    <tr>\n",
       "      <th>12</th>\n",
       "      <td>12</td>\n",
       "      <td>Бизнес</td>\n",
       "      <td>101</td>\n",
       "      <td>2</td>\n",
       "    </tr>\n",
       "    <tr>\n",
       "      <th>13</th>\n",
       "      <td>13</td>\n",
       "      <td>Путешествия</td>\n",
       "      <td>90</td>\n",
       "      <td>2</td>\n",
       "    </tr>\n",
       "    <tr>\n",
       "      <th>14</th>\n",
       "      <td>14</td>\n",
       "      <td>69-я параллель</td>\n",
       "      <td>13</td>\n",
       "      <td>2</td>\n",
       "    </tr>\n",
       "    <tr>\n",
       "      <th>15</th>\n",
       "      <td>15</td>\n",
       "      <td>Крым</td>\n",
       "      <td>14</td>\n",
       "      <td>4</td>\n",
       "    </tr>\n",
       "    <tr>\n",
       "      <th>16</th>\n",
       "      <td>16</td>\n",
       "      <td>Культпросвет</td>\n",
       "      <td>5</td>\n",
       "      <td>2</td>\n",
       "    </tr>\n",
       "    <tr>\n",
       "      <th>17</th>\n",
       "      <td>17</td>\n",
       "      <td>Легпром</td>\n",
       "      <td>3</td>\n",
       "      <td>2</td>\n",
       "    </tr>\n",
       "    <tr>\n",
       "      <th>18</th>\n",
       "      <td>18</td>\n",
       "      <td>Библиотека</td>\n",
       "      <td>0</td>\n",
       "      <td>2</td>\n",
       "    </tr>\n",
       "    <tr>\n",
       "      <th>19</th>\n",
       "      <td>19</td>\n",
       "      <td>МедНовости</td>\n",
       "      <td>0</td>\n",
       "      <td>2</td>\n",
       "    </tr>\n",
       "    <tr>\n",
       "      <th>20</th>\n",
       "      <td>20</td>\n",
       "      <td>Оружие</td>\n",
       "      <td>0</td>\n",
       "      <td>2</td>\n",
       "    </tr>\n",
       "    <tr>\n",
       "      <th>21</th>\n",
       "      <td>21</td>\n",
       "      <td>Сочи</td>\n",
       "      <td>0</td>\n",
       "      <td>2</td>\n",
       "    </tr>\n",
       "  </tbody>\n",
       "</table>\n",
       "</div>"
      ],
      "text/plain": [
       "    id                top   nmb new_id\n",
       "0    0             Россия  2141      2\n",
       "1    1                Мир  1836      1\n",
       "2    2          Экономика  1066      2\n",
       "3    3              Спорт   847      3\n",
       "4    4        Бывший СССР   740      4\n",
       "5    5           Культура   727      2\n",
       "6    6    Наука и техника   725      2\n",
       "7    7     Интернет и СМИ   577      2\n",
       "8    8           Из жизни   351      2\n",
       "9    9                Дом   348      2\n",
       "10  10  Силовые структуры   295      2\n",
       "11  11           Ценности   121      2\n",
       "12  12             Бизнес   101      2\n",
       "13  13        Путешествия    90      2\n",
       "14  14     69-я параллель    13      2\n",
       "15  15               Крым    14      4\n",
       "16  16      Культпросвет      5      2\n",
       "17  17            Легпром     3      2\n",
       "18  18         Библиотека     0      2\n",
       "19  19         МедНовости     0      2\n",
       "20  20             Оружие     0      2\n",
       "21  21               Сочи     0      2"
      ]
     },
     "execution_count": 112,
     "metadata": {},
     "output_type": "execute_result"
    }
   ],
   "source": [
    "print(foo())\n",
    "tpk"
   ]
  },
  {
   "cell_type": "markdown",
   "metadata": {},
   "source": [
    "## Cама процедура элиминации"
   ]
  },
  {
   "cell_type": "code",
   "execution_count": 110,
   "metadata": {},
   "outputs": [
    {
     "name": "stdout",
     "output_type": "stream",
     "text": [
      "2 0.6965 21\n",
      "4 0.6968 20\n",
      "5 0.6973 19\n",
      "2 0.6974 18\n",
      "2 0.6974 17\n",
      "2 0.6974 16\n",
      "2 0.6974 15\n",
      "2 0.6974 14\n",
      "2 0.7036 13\n",
      "6 0.7079000000000001 12\n",
      "5 0.7117 11\n",
      "2 0.713 10\n",
      "5 0.7219 9\n",
      "5 0.7262999999999998 8\n",
      "2 0.735 7\n",
      "5 0.7523000000000001 6\n",
      "2 0.7771 5\n",
      "2 0.8532 4\n"
     ]
    }
   ],
   "source": [
    "while tpk.new_id.nunique()>4:\n",
    "# ищем самый минимальный accuracy\n",
    "    min_acc = 1\n",
    "    min_ind=0\n",
    "    for i in tpk.new_id.unique():\n",
    "        acc_i = foo_i(i)\n",
    "        if acc_i<min_acc:\n",
    "            min_acc=acc_i\n",
    "            min_ind=i\n",
    "#     print(min_ind,tpk.new_id.unique(),'-минималисимус')\n",
    "            \n",
    "#  нашли. теперь пытаемся его объединить с кем нибудь с наименьшими потерями\n",
    "    max_foo=0\n",
    "    max_j=min_ind\n",
    "    for j in tpk.new_id.unique():\n",
    "#         print(j,foo())\n",
    "        if j!=min_ind:\n",
    "            tpk.loc[min_ind,'new_id']=j\n",
    "            jfoo=foo()\n",
    "            if (max_foo<jfoo) & (j>1):\n",
    "                max_foo=jfoo\n",
    "                max_j=j \n",
    "            else:\n",
    "                tpk.loc[min_ind,'new_id']=min_ind\n",
    "\n",
    "        else:\n",
    "            tpk.loc[min_ind,'new_id']=min_ind\n",
    "\n",
    "                \n",
    "    for i in tpk[tpk.new_id==min_ind].index:\n",
    "        tpk.loc[i,'new_id']=max_j\n",
    "\n",
    "    \n",
    "    print(max_j,foo(),tpk.new_id.nunique())"
   ]
  },
  {
   "cell_type": "markdown",
   "metadata": {},
   "source": [
    "# Смотрим сбалансированность классов"
   ]
  },
  {
   "cell_type": "code",
   "execution_count": 111,
   "metadata": {},
   "outputs": [
    {
     "data": {
      "text/plain": [
       "new_id\n",
       "1    1836\n",
       "2    6563\n",
       "3     847\n",
       "4     754\n",
       "Name: nmb, dtype: int64"
      ]
     },
     "execution_count": 111,
     "metadata": {},
     "output_type": "execute_result"
    }
   ],
   "source": [
    "tpk.groupby('new_id').nmb.sum()"
   ]
  },
  {
   "cell_type": "markdown",
   "metadata": {},
   "source": [
    "## Сохраняем результаты"
   ]
  },
  {
   "cell_type": "code",
   "execution_count": 113,
   "metadata": {},
   "outputs": [],
   "source": [
    "df.to_csv('df_100000.csv')\n",
    "torch.save(a, 'a_100000.pt') \n",
    "torch.save(text_tune,'text_tune_100000')\n",
    "torch.save(elmo,'elmo_100000_85')\n",
    "torch.save(geo,'geo_tz_100000.pt')"
   ]
  }
 ],
 "metadata": {
  "kernelspec": {
   "display_name": "Python 3",
   "language": "python",
   "name": "python3"
  },
  "language_info": {
   "codemirror_mode": {
    "name": "ipython",
    "version": 3
   },
   "file_extension": ".py",
   "mimetype": "text/x-python",
   "name": "python",
   "nbconvert_exporter": "python",
   "pygments_lexer": "ipython3",
   "version": "3.7.6"
  }
 },
 "nbformat": 4,
 "nbformat_minor": 4
}
